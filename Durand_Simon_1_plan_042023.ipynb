{
 "cells": [
  {
   "cell_type": "markdown",
   "id": "1f898973",
   "metadata": {},
   "source": [
    "# <font color=\"#114b98\">Développez une preuve de concept</font>"
   ]
  },
  {
   "cell_type": "markdown",
   "id": "f9eacf2a",
   "metadata": {},
   "source": [
    "## <font color=\"#114b98\">Prédiction de l'âge, du genre et de l'ethnicité à l'aide de modèles de Deep Learning</font>\n",
    "\n",
    "### <font color=\"#114b98\">**<u>Objectif </u>: Améliorer les performances d'Inception v3 en traitant les données déséquilibrées**</font>\n",
    "\n",
    "**<u>Plan de travail prévisionnel</u>**\n",
    "    \n",
    "1. Préparation des données :\n",
    " - [x] Sélection et prétraitement d'un jeu de données (UTKFace - images et étiquettes de classification)\n",
    " - [x] Exploration des données (E.D.A.)\n",
    " - [x] Division des données en ensembles d'apprentissage, de validation et de test\n",
    " \n",
    "\n",
    "2. Implémentation et ajustement d'Inception v3 :\n",
    " - [x] Chargement du modèle pré-entraîné Inception v3\n",
    " - [x] Fine-tuning du modèle avec l'ensemble d'apprentissage\n",
    " - [x] Recherche des hyperparamètres les plus performant pour ce modèle\n",
    " - [x] Évaluation des performances sur l'ensemble de validation\n",
    "\n",
    "\n",
    "3. Implémentation et ajustement d'un modèle avec DenseWeight et VSLoss :\n",
    " - [x] Gestion du déséquilibre des classes en utilisant DenseWeight pour l'âge et VSLoss pour l'ethnicité\n",
    " - [x] Définition du modèle avec DenseWeight pour l'âge et VSLoss pour l'ethnicité\n",
    " - [x] Fine-tuning du modèle avec l'ensemble d'apprentissage\n",
    " - [x] Recherche des hyperparamètres les plus performant pour ce modèle\n",
    " - [x] Évaluation des performances sur l'ensemble de validation\n",
    " \n",
    "\n",
    "4. Comparaison des performances et analyse :\n",
    " - [x]  Comparaison des performances d'Inception v3 et du modèle avec DenseWeight et VSLoss sur l'ensemble de test \n",
    " - [ ]  Analyse des résultats obtenus, identification des forces et faiblesses de chaque modèle\n",
    " - [ ]  Discussion sur les améliorations potentielles et les perspectives futures\n",
    "\n",
    "\n",
    "5. Rédaction et documentation :\n",
    " - [ ] Rédaction d'un rapport détaillé sur les résultats, les méthodes utilisées et les conclusions tirées\n",
    " - [ ] Documentation du code et des expériences réalisées pour faciliter la réutilisation et la compréhension du projet\n",
    "\n",
    "\n",
    "\n",
    "**<u>Sources bibliographiques </u>:**\n",
    "\n",
    " - Moving Window Regression: A Novel Approach to Ordinal Regression : https://arxiv.org/pdf/2203.13122v1.pdf\n",
    " - Learning Imbalanced Datasets with Label-Distribution-Aware Margin Loss : https://arxiv.org/abs/1906.07413\n",
    " - Density-based weighting for imbalanced regression : https://link.springer.com/article/10.1007/s10994-021-06023-5\n",
    " - Real-time Convolutional Neural Networks for Emotion and Gender Classification : https://arxiv.org/pdf/1710.07557.pdf\n",
    " - Improved Facial Expression Recognition Method Based on GAN : https://doi.org/10.1155/2021/2689029\n",
    " - Review of Image Classification Algorithms Based on Convolutional Neural Networks : https://www.mdpi.com/2072-4292/13/22/4712\n",
    " - Age Progression/Regression by Conditional Adversarial Autoencoder : https://susanqq.github.io/UTKFace/\n",
    " - Facial Expression Recognition with Visual Transformers and Attentional Selective Fusion : https://arxiv.org/pdf/2103.16854.pdf\n",
    "\n",
    " "
   ]
  },
  {
   "cell_type": "code",
   "execution_count": null,
   "id": "c111eed9",
   "metadata": {},
   "outputs": [],
   "source": []
  }
 ],
 "metadata": {
  "kernelspec": {
   "display_name": "Python 3 (ipykernel)",
   "language": "python",
   "name": "python3"
  },
  "language_info": {
   "codemirror_mode": {
    "name": "ipython",
    "version": 3
   },
   "file_extension": ".py",
   "mimetype": "text/x-python",
   "name": "python",
   "nbconvert_exporter": "python",
   "pygments_lexer": "ipython3",
   "version": "3.9.13"
  }
 },
 "nbformat": 4,
 "nbformat_minor": 5
}
